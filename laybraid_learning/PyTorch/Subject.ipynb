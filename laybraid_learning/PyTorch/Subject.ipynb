{
 "cells": [
  {
   "cell_type": "markdown",
   "metadata": {},
   "source": [
    "# FashionMNIST\n",
    "\n",
    "![gif](assets/embedding.gif)\n",
    "\n",
    "\n",
    "You should solve the FashionMNIST problems and be able to recognize clothes thanks to AI."
   ]
  },
  {
   "cell_type": "markdown",
   "metadata": {},
   "source": [
    "\tIf necessary you can un-comment the next line and run it to install this notebook depedencies"
   ]
  },
  {
   "cell_type": "code",
   "execution_count": 1,
   "metadata": {},
   "outputs": [
    {
     "name": "stdout",
     "output_type": "stream",
     "text": [
      "\u001B[33mWARNING: The directory '/Users/clementloeuillet/Library/Caches/pip' or its parent directory is not owned or is not writable by the current user. The cache has been disabled. Check the permissions and owner of that directory. If executing pip with sudo, you should use sudo's -H flag.\u001B[0m\n",
      "Requirement already satisfied: torch in /Users/clementloeuillet/opt/anaconda3/lib/python3.9/site-packages (1.11.0)\n",
      "Requirement already satisfied: torchvision in /Users/clementloeuillet/opt/anaconda3/lib/python3.9/site-packages (0.12.0)\n",
      "Requirement already satisfied: numpy in /Users/clementloeuillet/opt/anaconda3/lib/python3.9/site-packages (1.20.3)\n",
      "Requirement already satisfied: matplotlib in /Users/clementloeuillet/opt/anaconda3/lib/python3.9/site-packages (3.4.3)\n",
      "Requirement already satisfied: typing-extensions in /Users/clementloeuillet/opt/anaconda3/lib/python3.9/site-packages (from torch) (3.10.0.2)\n",
      "Requirement already satisfied: requests in /Users/clementloeuillet/opt/anaconda3/lib/python3.9/site-packages (from torchvision) (2.26.0)\n",
      "Requirement already satisfied: pillow!=8.3.*,>=5.3.0 in /Users/clementloeuillet/opt/anaconda3/lib/python3.9/site-packages (from torchvision) (8.4.0)\n",
      "Requirement already satisfied: python-dateutil>=2.7 in /Users/clementloeuillet/opt/anaconda3/lib/python3.9/site-packages (from matplotlib) (2.8.2)\n",
      "Requirement already satisfied: pyparsing>=2.2.1 in /Users/clementloeuillet/opt/anaconda3/lib/python3.9/site-packages (from matplotlib) (3.0.4)\n",
      "Requirement already satisfied: cycler>=0.10 in /Users/clementloeuillet/opt/anaconda3/lib/python3.9/site-packages (from matplotlib) (0.10.0)\n",
      "Requirement already satisfied: kiwisolver>=1.0.1 in /Users/clementloeuillet/opt/anaconda3/lib/python3.9/site-packages (from matplotlib) (1.3.1)\n",
      "Requirement already satisfied: six in /Users/clementloeuillet/opt/anaconda3/lib/python3.9/site-packages (from cycler>=0.10->matplotlib) (1.16.0)\n",
      "Requirement already satisfied: charset-normalizer~=2.0.0 in /Users/clementloeuillet/opt/anaconda3/lib/python3.9/site-packages (from requests->torchvision) (2.0.4)\n",
      "Requirement already satisfied: urllib3<1.27,>=1.21.1 in /Users/clementloeuillet/opt/anaconda3/lib/python3.9/site-packages (from requests->torchvision) (1.26.7)\n",
      "Requirement already satisfied: idna<4,>=2.5 in /Users/clementloeuillet/opt/anaconda3/lib/python3.9/site-packages (from requests->torchvision) (3.2)\n",
      "Requirement already satisfied: certifi>=2017.4.17 in /Users/clementloeuillet/opt/anaconda3/lib/python3.9/site-packages (from requests->torchvision) (2021.10.8)\n",
      "\u001B[33mWARNING: Running pip as the 'root' user can result in broken permissions and conflicting behaviour with the system package manager. It is recommended to use a virtual environment instead: https://pip.pypa.io/warnings/venv\u001B[0m\n"
     ]
    }
   ],
   "source": [
    "!pip install torch torchvision numpy matplotlib"
   ]
  },
  {
   "cell_type": "code",
   "execution_count": 2,
   "metadata": {},
   "outputs": [],
   "source": [
    "import torch\n",
    "from torchvision import datasets, transforms\n",
    "import torch.nn.functional as F\n",
    "import numpy as np\n",
    "import matplotlib.pyplot as plt"
   ]
  },
  {
   "cell_type": "code",
   "execution_count": 3,
   "metadata": {},
   "outputs": [],
   "source": [
    "# Transform each image into tensor\n",
    "transform = transforms.Compose([transforms.ToTensor()])\n",
    "\n",
    "# Set the training loader\n",
    "train_data = datasets.FashionMNIST('../data', train=True, download=True, transform=transform)\n",
    "# Set the testing loader\n",
    "test_data = datasets.FashionMNIST('../data', train=False, download=True, transform=transform)"
   ]
  },
  {
   "cell_type": "markdown",
   "metadata": {},
   "source": [
    "# The dataset\n",
    "\n",
    " - `train_data` is only for training your model.\n",
    " - `test_data`  is only for testing your model.\n",
    "\n",
    "## Shape\n",
    "\n",
    "```python\n",
    "train_data = [\n",
    "\t[image], [label] # 1st example\n",
    "\t[image], [label] # 2nd example\n",
    "\t[image], [label] # 3rd example\n",
    "\t[image], [label] # 4th example\n",
    "\t... # 4th example\n",
    "]\n",
    "```\n",
    "\n",
    "There's 60 000 examples in the train set, and 10 000 in the test set\n",
    "\n",
    "### Image\n",
    "\n",
    "An image is 28*28 in black & white \n",
    "\n",
    "You can access the first image this way:\n",
    "\n",
    "```python\n",
    "image_0 = data[0][0]\n",
    "```\n",
    "\n",
    "### Label\n",
    "\n",
    "A label is an integer between 0 and 9 (included) \n",
    "\n",
    "You can access the first label this way:\n",
    "\n",
    "```python\n",
    "label_0 = data[0][0]\n",
    "```\n",
    "\n",
    "Here is the detail of each label\n",
    "\n",
    "| Label | Description |\n",
    "|:-|:-:|\n",
    "| 0 | T-shirt/top |\n",
    "| 1 | Trouser |\n",
    "| 2 | Pullover |\n",
    "| 3 | Dress |\n",
    "| 4 | Coat |\n",
    "| 5 | Sandal |\n",
    "| 6 | Shirt |\n",
    "| 7 | Sneaker |\n",
    "| 8 | Bag |\n",
    "| 9 | Ankle boot |\n",
    "\n"
   ]
  },
  {
   "cell_type": "code",
   "execution_count": 4,
   "metadata": {},
   "outputs": [
    {
     "name": "stdout",
     "output_type": "stream",
     "text": [
      "Train len : 10000\n",
      "Test len : 60000\n"
     ]
    }
   ],
   "source": [
    "print(\"Train len : \" + str(len(test_data)))\n",
    "print(\"Test len : \" + str(len(train_data)))"
   ]
  },
  {
   "cell_type": "code",
   "execution_count": 5,
   "metadata": {},
   "outputs": [
    {
     "name": "stdout",
     "output_type": "stream",
     "text": [
      "Image Size: torch.Size([1, 28, 28])\n"
     ]
    }
   ],
   "source": [
    "print(\"Image Size: \" + str(train_data[0][0].shape))"
   ]
  },
  {
   "cell_type": "code",
   "execution_count": 6,
   "metadata": {},
   "outputs": [],
   "source": [
    "label_dic = {\n",
    "\t0: \"T-shirt/top\",\n",
    "\t1: \"Trouser\",\n",
    "\t2 : \"Pullover \",\n",
    "\t3 : \"Dress \",\n",
    "\t4 : \"Coat \",\n",
    "\t5 : \"Sandal \",\n",
    "\t6 : \"Shirt \",\n",
    "\t7 : \"Sneaker \",\n",
    "\t8 : \"Bag \",\n",
    "\t9 : \"Ankle boot\"\n",
    "}\n",
    "\n",
    "def plot_one_example(example):\n",
    "\tplt.imshow(example[0].view(28, 28), cmap=\"gray\")\n",
    "\tplt.title(\"Label class {}: {}\".format(example[1], label_dic[example[1]]))\n",
    "\tplt.show()"
   ]
  },
  {
   "cell_type": "code",
   "execution_count": 7,
   "metadata": {},
   "outputs": [
    {
     "data": {
      "image/png": "[encoded data removed]",
      "text/plain": [
       "<Figure size 432x288 with 1 Axes>"
      ]
     },
     "metadata": {
      "needs_background": "light"
     },
     "output_type": "display_data"
    },
    {
     "data": {
      "image/png": "[encoded data removed]",
      "text/plain": [
       "<Figure size 432x288 with 1 Axes>"
      ]
     },
     "metadata": {
      "needs_background": "light"
     },
     "output_type": "display_data"
    },
    {
     "data": {
      "image/png": "[encoded data removed]",
      "text/plain": [
       "<Figure size 432x288 with 1 Axes>"
      ]
     },
     "metadata": {
      "needs_background": "light"
     },
     "output_type": "display_data"
    }
   ],
   "source": [
    "plot_one_example(train_data[0])\n",
    "plot_one_example(train_data[-1])\n",
    "plot_one_example(train_data[1])"
   ]
  },
  {
   "cell_type": "markdown",
   "metadata": {},
   "source": [
    "Time to train a model to predict the label of an image !\n",
    "\n",
    "# 🚀 Good Luck "
   ]
  },
  {
   "cell_type": "code",
   "execution_count": 8,
   "metadata": {},
   "outputs": [],
   "source": [
    "# Your code here"
   ]
  },
  {
   "cell_type": "code",
   "metadata": {
    "pycharm": {
     "name": "#%% mdimport torch\n"
    }
   },
   "source": [
    "import torchvision\n",
    "import torchvision.transforms as transforms\n",
    "\n",
    "import os.path\n",
    "\n",
    " ############################################################################################ Datasets\n",
    "\n",
    "dataset_dir = os.path.join(os.path.expanduser(\"~\"), 'Datasets', 'FashionMNIST')\n",
    "valid_ratio = 0.2  # Going to use 80%/20% split for train/valid\n",
    "\n",
    "# Load the dataset for the training/validation sets\n",
    "train_valid_dataset = torchvision.datasets.FashionMNIST(root=dataset_dir,\n",
    "                                           train=True,\n",
    "                                           transform= None, #transforms.ToTensor(),\n",
    "                                           download=True)\n",
    "\n",
    "# Split it into training and validation sets\n",
    "nb_train = int((1.0 - valid_ratio) * len(train_valid_dataset))\n",
    "nb_valid =  int(valid_ratio * len(train_valid_dataset))\n",
    "train_dataset, valid_dataset = torch.utils.data.dataset.random_split(train_valid_dataset, [nb_train, nb_valid])\n",
    "\n",
    "\n",
    "# Load the test set\n",
    "test_dataset = torchvision.datasets.FashionMNIST(root=dataset_dir,\n",
    "                                                 transform= None, #transforms.ToTensor(),\n",
    "                                                 train=False)"
   ],
   "execution_count": 2,
   "outputs": [
    {
     "name": "stdout",
     "output_type": "stream",
     "text": [
      "Downloading http://fashion-mnist.s3-website.eu-central-1.amazonaws.com/train-images-idx3-ubyte.gz\n",
      "Downloading http://fashion-mnist.s3-website.eu-central-1.amazonaws.com/train-images-idx3-ubyte.gz to /Users/clementloeuillet/Datasets/FashionMNIST/FashionMNIST/raw/train-images-idx3-ubyte.gz\n",
      "Extracting /Users/clementloeuillet/Datasets/FashionMNIST/FashionMNIST/raw/train-images-idx3-ubyte.gz to /Users/clementloeuillet/Datasets/FashionMNIST/FashionMNIST/raw\n",
      "\n",
      "Downloading http://fashion-mnist.s3-website.eu-central-1.amazonaws.com/train-labels-idx1-ubyte.gz\n",
      "Downloading http://fashion-mnist.s3-website.eu-central-1.amazonaws.com/train-labels-idx1-ubyte.gz to /Users/clementloeuillet/Datasets/FashionMNIST/FashionMNIST/raw/train-labels-idx1-ubyte.gz\n",
      "Extracting /Users/clementloeuillet/Datasets/FashionMNIST/FashionMNIST/raw/train-labels-idx1-ubyte.gz to /Users/clementloeuillet/Datasets/FashionMNIST/FashionMNIST/raw\n",
      "\n",
      "Downloading http://fashion-mnist.s3-website.eu-central-1.amazonaws.com/t10k-images-idx3-ubyte.gz\n",
      "Downloading http://fashion-mnist.s3-website.eu-central-1.amazonaws.com/t10k-images-idx3-ubyte.gz to /Users/clementloeuillet/Datasets/FashionMNIST/FashionMNIST/raw/t10k-images-idx3-ubyte.gz\n",
      "Extracting /Users/clementloeuillet/Datasets/FashionMNIST/FashionMNIST/raw/t10k-images-idx3-ubyte.gz to /Users/clementloeuillet/Datasets/FashionMNIST/FashionMNIST/raw\n",
      "\n",
      "Downloading http://fashion-mnist.s3-website.eu-central-1.amazonaws.com/t10k-labels-idx1-ubyte.gz\n",
      "Downloading http://fashion-mnist.s3-website.eu-central-1.amazonaws.com/t10k-labels-idx1-ubyte.gz to /Users/clementloeuillet/Datasets/FashionMNIST/FashionMNIST/raw/t10k-labels-idx1-ubyte.gz\n",
      "Extracting /Users/clementloeuillet/Datasets/FashionMNIST/FashionMNIST/raw/t10k-labels-idx1-ubyte.gz to /Users/clementloeuillet/Datasets/FashionMNIST/FashionMNIST/raw\n",
      "\n"
     ]
    },
    {
     "name": "stderr",
     "output_type": "stream",
     "text": [
      "11.6%IOPub message rate exceeded.\n",
      "The notebook server will temporarily stop sending output\n",
      "to the client in order to avoid crashing it.\n",
      "To change this limit, set the config variable\n",
      "`--NotebookApp.iopub_msg_rate_limit`.\n",
      "\n",
      "Current values:\n",
      "NotebookApp.iopub_msg_rate_limit=1000.0 (msgs/sec)\n",
      "NotebookApp.rate_limit_window=3.0 (secs)\n",
      "\n",
      "32.8%IOPub message rate exceeded.\n",
      "The notebook server will temporarily stop sending output\n",
      "to the client in order to avoid crashing it.\n",
      "To change this limit, set the config variable\n",
      "`--NotebookApp.iopub_msg_rate_limit`.\n",
      "\n",
      "Current values:\n",
      "NotebookApp.iopub_msg_rate_limit=1000.0 (msgs/sec)\n",
      "NotebookApp.rate_limit_window=3.0 (secs)\n",
      "\n",
      "56.3%IOPub message rate exceeded.\n",
      "The notebook server will temporarily stop sending output\n",
      "to the client in order to avoid crashing it.\n",
      "To change this limit, set the config variable\n",
      "`--NotebookApp.iopub_msg_rate_limit`.\n",
      "\n",
      "Current values:\n",
      "NotebookApp.iopub_msg_rate_limit=1000.0 (msgs/sec)\n",
      "NotebookApp.rate_limit_window=3.0 (secs)\n",
      "\n",
      "80.1%IOPub message rate exceeded.\n",
      "The notebook server will temporarily stop sending output\n",
      "to the client in order to avoid crashing it.\n",
      "To change this limit, set the config variable\n",
      "`--NotebookApp.iopub_msg_rate_limit`.\n",
      "\n",
      "Current values:\n",
      "NotebookApp.iopub_msg_rate_limit=1000.0 (msgs/sec)\n",
      "NotebookApp.rate_limit_window=3.0 (secs)\n",
      "\n",
      "100.0%\n",
      "100.6%\n",
      "22.6%IOPub message rate exceeded.\n",
      "The notebook server will temporarily stop sending output\n",
      "to the client in order to avoid crashing it.\n",
      "To change this limit, set the config variable\n",
      "`--NotebookApp.iopub_msg_rate_limit`.\n",
      "\n",
      "Current values:\n",
      "NotebookApp.iopub_msg_rate_limit=1000.0 (msgs/sec)\n",
      "NotebookApp.rate_limit_window=3.0 (secs)\n",
      "\n",
      "100.0%\n",
      "119.3%\n"
     ]
    },
    {
     "ename": "NameError",
     "evalue": "name 'torch' is not defined",
     "output_type": "error",
     "traceback": [
      "\u001B[0;31m---------------------------------------------------------------------------\u001B[0m",
      "\u001B[0;31mNameError\u001B[0m                                 Traceback (most recent call last)",
      "Input \u001B[0;32mIn [2]\u001B[0m, in \u001B[0;36m<cell line: 20>\u001B[0;34m()\u001B[0m\n\u001B[1;32m     18\u001B[0m nb_train \u001B[38;5;241m=\u001B[39m \u001B[38;5;28mint\u001B[39m((\u001B[38;5;241m1.0\u001B[39m \u001B[38;5;241m-\u001B[39m valid_ratio) \u001B[38;5;241m*\u001B[39m \u001B[38;5;28mlen\u001B[39m(train_valid_dataset))\n\u001B[1;32m     19\u001B[0m nb_valid \u001B[38;5;241m=\u001B[39m  \u001B[38;5;28mint\u001B[39m(valid_ratio \u001B[38;5;241m*\u001B[39m \u001B[38;5;28mlen\u001B[39m(train_valid_dataset))\n\u001B[0;32m---> 20\u001B[0m train_dataset, valid_dataset \u001B[38;5;241m=\u001B[39m \u001B[43mtorch\u001B[49m\u001B[38;5;241m.\u001B[39mutils\u001B[38;5;241m.\u001B[39mdata\u001B[38;5;241m.\u001B[39mdataset\u001B[38;5;241m.\u001B[39mrandom_split(train_valid_dataset, [nb_train, nb_valid])\n\u001B[1;32m     23\u001B[0m \u001B[38;5;66;03m# Load the test set\u001B[39;00m\n\u001B[1;32m     24\u001B[0m test_dataset \u001B[38;5;241m=\u001B[39m torchvision\u001B[38;5;241m.\u001B[39mdatasets\u001B[38;5;241m.\u001B[39mFashionMNIST(root\u001B[38;5;241m=\u001B[39mdataset_dir,\n\u001B[1;32m     25\u001B[0m                                                  transform\u001B[38;5;241m=\u001B[39m \u001B[38;5;28;01mNone\u001B[39;00m, \u001B[38;5;66;03m#transforms.ToTensor(),\u001B[39;00m\n\u001B[1;32m     26\u001B[0m                                                  train\u001B[38;5;241m=\u001B[39m\u001B[38;5;28;01mFalse\u001B[39;00m)\n",
      "\u001B[0;31mNameError\u001B[0m: name 'torch' is not defined"
     ]
    }
   ]
  }
 ],
 "metadata": {
  "interpreter": {
   "hash": "916dbcbb3f70747c44a77c7bcd40155683ae19c65e1c03b4aa3499c5328201f1"
  },
  "kernelspec": {
   "display_name": "Python 3 (ipykernel)",
   "language": "python",
   "name": "python3"
  },
  "language_info": {
   "codemirror_mode": {
    "name": "ipython",
    "version": 3
   },
   "file_extension": ".py",
   "mimetype": "text/x-python",
   "name": "python",
   "nbconvert_exporter": "python",
   "pygments_lexer": "ipython3",
   "version": "3.9.12"
  }
 },
 "nbformat": 4,
 "nbformat_minor": 2
}